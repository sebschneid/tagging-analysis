{
 "cells": [
  {
   "cell_type": "code",
   "execution_count": 1,
   "metadata": {},
   "outputs": [
    {
     "name": "stdout",
     "output_type": "stream",
     "text": [
      "attacking_set_pieces.csv    negative_transition.csv\n",
      "attacking_shot_on_goal.csv  passing.csv\n",
      "counterpress.csv            positive_transition.csv\n",
      "deffending_set_pieces.csv   possesion.csv\n",
      "deffending_shot_on_goal.csv pressing.csv\n",
      "dribling.csv                second_ball.csv\n",
      "error.csv                   substitution.csv\n",
      "interception.csv\n"
     ]
    }
   ],
   "source": [
    "!ls ../data/kustosija"
   ]
  },
  {
   "cell_type": "markdown",
   "metadata": {},
   "source": [
    "Tables necessary\n",
    "\n",
    "- Players\n",
    "    - Passing\n",
    "    - Dribbling\n",
    "    - Interception\n",
    "- Team Stats\n",
    "    - Passing\n",
    "    - Dribbling\n",
    "    - Interception\n",
    "    - Ball Possession\n",
    "    - Pressing\n",
    "    - Counterpress\n",
    "    - Pos. Transition\n",
    "    - Neg. Transition\n",
    "    - Set Pieces Attacking\n",
    "    - Set Pieces Defending\n",
    "    - Shot on Goal Attacking\n",
    "    - Shot on Goal Attacking\n",
    "    - Second Ball\n"
   ]
  },
  {
   "cell_type": "code",
   "execution_count": 1,
   "metadata": {},
   "outputs": [],
   "source": [
    "import os\n",
    "\n",
    "import numpy as np\n",
    "import pandas as pd"
   ]
  },
  {
   "cell_type": "markdown",
   "metadata": {},
   "source": [
    "## Players Table"
   ]
  },
  {
   "cell_type": "code",
   "execution_count": 2,
   "metadata": {},
   "outputs": [],
   "source": [
    "dataset = \"kustosija\"\n",
    "path = f\"../data/{dataset}\""
   ]
  },
  {
   "cell_type": "code",
   "execution_count": 3,
   "metadata": {},
   "outputs": [],
   "source": [
    "output_path = f\"../data/{dataset}/stats\"\n",
    "if not os.path.isdir(output_path):\n",
    "    os.mkdir(output_path)"
   ]
  },
  {
   "cell_type": "code",
   "execution_count": 4,
   "metadata": {},
   "outputs": [],
   "source": [
    "#### Passing"
   ]
  },
  {
   "cell_type": "code",
   "execution_count": 5,
   "metadata": {},
   "outputs": [],
   "source": [
    "def add_passing_totals(stats_passes, sum_axis: int):\n",
    "    stats_passes[\"TOTAL+\"] = stats_passes[pass_base_columns].sum(axis=sum_axis)\n",
    "    stats_passes[\"TOTAL-\"] = stats_passes[pass_additional_columns].sum(axis=sum_axis)\n",
    "    stats_passes[\"TOTAL\"] = stats_passes[pass_additional_columns + pass_base_columns].sum(axis=sum_axis)\n",
    "    stats_passes[\"%\"] = stats_passes[\"TOTAL+\"] / stats_passes[\"TOTAL\"]\n",
    "    return stats_passes"
   ]
  },
  {
   "cell_type": "code",
   "execution_count": 6,
   "metadata": {},
   "outputs": [],
   "source": [
    "df_passing = pd.read_csv(f\"{path}/passing.csv\", sep=\";\", header=1)"
   ]
  },
  {
   "cell_type": "code",
   "execution_count": 7,
   "metadata": {},
   "outputs": [
    {
     "data": {
      "text/html": [
       "<div>\n",
       "<style scoped>\n",
       "    .dataframe tbody tr th:only-of-type {\n",
       "        vertical-align: middle;\n",
       "    }\n",
       "\n",
       "    .dataframe tbody tr th {\n",
       "        vertical-align: top;\n",
       "    }\n",
       "\n",
       "    .dataframe thead th {\n",
       "        text-align: right;\n",
       "    }\n",
       "</style>\n",
       "<table border=\"1\" class=\"dataframe\">\n",
       "  <thead>\n",
       "    <tr style=\"text-align: right;\">\n",
       "      <th></th>\n",
       "      <th>Name</th>\n",
       "      <th>Time</th>\n",
       "      <th>Start</th>\n",
       "      <th>Stop</th>\n",
       "      <th>Team</th>\n",
       "      <th>Player</th>\n",
       "      <th>FORWARD</th>\n",
       "      <th>SIDEPASS</th>\n",
       "      <th>BACKPASS</th>\n",
       "      <th>0 PRESS PASS</th>\n",
       "      <th>...</th>\n",
       "      <th>CAN COUNTERPRESS</th>\n",
       "      <th>CAN'T COUNTERPRESS</th>\n",
       "      <th>3</th>\n",
       "      <th>4+</th>\n",
       "      <th>CROSS -</th>\n",
       "      <th>LAY-OFF</th>\n",
       "      <th>CROSS+</th>\n",
       "      <th>DIAG+</th>\n",
       "      <th>SIDE DEEP</th>\n",
       "      <th>OUT OF PLAY</th>\n",
       "    </tr>\n",
       "  </thead>\n",
       "  <tbody>\n",
       "    <tr>\n",
       "      <th>0</th>\n",
       "      <td>PASSING 001</td>\n",
       "      <td>0:21,720</td>\n",
       "      <td>0:16,720</td>\n",
       "      <td>0:26,720</td>\n",
       "      <td>NaN</td>\n",
       "      <td>14-Ivan Giljanović</td>\n",
       "      <td>0</td>\n",
       "      <td>0</td>\n",
       "      <td>0</td>\n",
       "      <td>0</td>\n",
       "      <td>...</td>\n",
       "      <td>1</td>\n",
       "      <td>0</td>\n",
       "      <td>0</td>\n",
       "      <td>0</td>\n",
       "      <td>0</td>\n",
       "      <td>0</td>\n",
       "      <td>0</td>\n",
       "      <td>0</td>\n",
       "      <td>0</td>\n",
       "      <td>0</td>\n",
       "    </tr>\n",
       "    <tr>\n",
       "      <th>1</th>\n",
       "      <td>PASSING 002</td>\n",
       "      <td>0:33,520</td>\n",
       "      <td>0:28,520</td>\n",
       "      <td>0:38,520</td>\n",
       "      <td>NaN</td>\n",
       "      <td>1-Karlo  Sentić</td>\n",
       "      <td>0</td>\n",
       "      <td>1</td>\n",
       "      <td>0</td>\n",
       "      <td>0</td>\n",
       "      <td>...</td>\n",
       "      <td>0</td>\n",
       "      <td>0</td>\n",
       "      <td>0</td>\n",
       "      <td>0</td>\n",
       "      <td>0</td>\n",
       "      <td>0</td>\n",
       "      <td>0</td>\n",
       "      <td>0</td>\n",
       "      <td>0</td>\n",
       "      <td>0</td>\n",
       "    </tr>\n",
       "    <tr>\n",
       "      <th>2</th>\n",
       "      <td>PASSING 003</td>\n",
       "      <td>0:40,200</td>\n",
       "      <td>0:35,200</td>\n",
       "      <td>0:45,200</td>\n",
       "      <td>NaN</td>\n",
       "      <td>6-Vicko Ševelj</td>\n",
       "      <td>0</td>\n",
       "      <td>1</td>\n",
       "      <td>0</td>\n",
       "      <td>0</td>\n",
       "      <td>...</td>\n",
       "      <td>0</td>\n",
       "      <td>0</td>\n",
       "      <td>0</td>\n",
       "      <td>0</td>\n",
       "      <td>0</td>\n",
       "      <td>0</td>\n",
       "      <td>0</td>\n",
       "      <td>0</td>\n",
       "      <td>0</td>\n",
       "      <td>0</td>\n",
       "    </tr>\n",
       "    <tr>\n",
       "      <th>3</th>\n",
       "      <td>PASSING 004</td>\n",
       "      <td>0:43,800</td>\n",
       "      <td>0:38,800</td>\n",
       "      <td>0:48,800</td>\n",
       "      <td>NaN</td>\n",
       "      <td>77-Lumbardh Dellova</td>\n",
       "      <td>0</td>\n",
       "      <td>1</td>\n",
       "      <td>0</td>\n",
       "      <td>0</td>\n",
       "      <td>...</td>\n",
       "      <td>0</td>\n",
       "      <td>0</td>\n",
       "      <td>0</td>\n",
       "      <td>0</td>\n",
       "      <td>0</td>\n",
       "      <td>0</td>\n",
       "      <td>0</td>\n",
       "      <td>0</td>\n",
       "      <td>0</td>\n",
       "      <td>0</td>\n",
       "    </tr>\n",
       "    <tr>\n",
       "      <th>4</th>\n",
       "      <td>PASSING 005</td>\n",
       "      <td>0:47,040</td>\n",
       "      <td>0:42,040</td>\n",
       "      <td>0:52,040</td>\n",
       "      <td>NaN</td>\n",
       "      <td>14-Ivan Giljanović</td>\n",
       "      <td>0</td>\n",
       "      <td>1</td>\n",
       "      <td>0</td>\n",
       "      <td>0</td>\n",
       "      <td>...</td>\n",
       "      <td>0</td>\n",
       "      <td>0</td>\n",
       "      <td>0</td>\n",
       "      <td>0</td>\n",
       "      <td>0</td>\n",
       "      <td>0</td>\n",
       "      <td>0</td>\n",
       "      <td>0</td>\n",
       "      <td>0</td>\n",
       "      <td>0</td>\n",
       "    </tr>\n",
       "    <tr>\n",
       "      <th>...</th>\n",
       "      <td>...</td>\n",
       "      <td>...</td>\n",
       "      <td>...</td>\n",
       "      <td>...</td>\n",
       "      <td>...</td>\n",
       "      <td>...</td>\n",
       "      <td>...</td>\n",
       "      <td>...</td>\n",
       "      <td>...</td>\n",
       "      <td>...</td>\n",
       "      <td>...</td>\n",
       "      <td>...</td>\n",
       "      <td>...</td>\n",
       "      <td>...</td>\n",
       "      <td>...</td>\n",
       "      <td>...</td>\n",
       "      <td>...</td>\n",
       "      <td>...</td>\n",
       "      <td>...</td>\n",
       "      <td>...</td>\n",
       "      <td>...</td>\n",
       "    </tr>\n",
       "    <tr>\n",
       "      <th>455</th>\n",
       "      <td>PASSING 456</td>\n",
       "      <td>1:34:00,960</td>\n",
       "      <td>1:33:55,960</td>\n",
       "      <td>1:34:05,960</td>\n",
       "      <td>NaN</td>\n",
       "      <td>18-Josip Ciprić</td>\n",
       "      <td>0</td>\n",
       "      <td>1</td>\n",
       "      <td>0</td>\n",
       "      <td>0</td>\n",
       "      <td>...</td>\n",
       "      <td>0</td>\n",
       "      <td>0</td>\n",
       "      <td>0</td>\n",
       "      <td>0</td>\n",
       "      <td>0</td>\n",
       "      <td>0</td>\n",
       "      <td>0</td>\n",
       "      <td>0</td>\n",
       "      <td>0</td>\n",
       "      <td>0</td>\n",
       "    </tr>\n",
       "    <tr>\n",
       "      <th>456</th>\n",
       "      <td>PASSING 457</td>\n",
       "      <td>1:34:08,080</td>\n",
       "      <td>1:34:03,080</td>\n",
       "      <td>1:34:13,080</td>\n",
       "      <td>NaN</td>\n",
       "      <td>14-Ivan Giljanović</td>\n",
       "      <td>0</td>\n",
       "      <td>0</td>\n",
       "      <td>0</td>\n",
       "      <td>0</td>\n",
       "      <td>...</td>\n",
       "      <td>0</td>\n",
       "      <td>0</td>\n",
       "      <td>0</td>\n",
       "      <td>0</td>\n",
       "      <td>0</td>\n",
       "      <td>0</td>\n",
       "      <td>0</td>\n",
       "      <td>0</td>\n",
       "      <td>0</td>\n",
       "      <td>0</td>\n",
       "    </tr>\n",
       "    <tr>\n",
       "      <th>457</th>\n",
       "      <td>PASSING 458</td>\n",
       "      <td>1:34:09,680</td>\n",
       "      <td>1:34:04,680</td>\n",
       "      <td>1:34:14,680</td>\n",
       "      <td>NaN</td>\n",
       "      <td>14-Ivan Giljanović</td>\n",
       "      <td>0</td>\n",
       "      <td>0</td>\n",
       "      <td>1</td>\n",
       "      <td>0</td>\n",
       "      <td>...</td>\n",
       "      <td>0</td>\n",
       "      <td>0</td>\n",
       "      <td>0</td>\n",
       "      <td>0</td>\n",
       "      <td>0</td>\n",
       "      <td>0</td>\n",
       "      <td>0</td>\n",
       "      <td>0</td>\n",
       "      <td>0</td>\n",
       "      <td>0</td>\n",
       "    </tr>\n",
       "    <tr>\n",
       "      <th>458</th>\n",
       "      <td>PASSING 459</td>\n",
       "      <td>1:34:12,640</td>\n",
       "      <td>1:34:07,640</td>\n",
       "      <td>1:34:17,640</td>\n",
       "      <td>NaN</td>\n",
       "      <td>6-Vicko Ševelj</td>\n",
       "      <td>0</td>\n",
       "      <td>0</td>\n",
       "      <td>0</td>\n",
       "      <td>0</td>\n",
       "      <td>...</td>\n",
       "      <td>0</td>\n",
       "      <td>0</td>\n",
       "      <td>1</td>\n",
       "      <td>0</td>\n",
       "      <td>0</td>\n",
       "      <td>0</td>\n",
       "      <td>0</td>\n",
       "      <td>0</td>\n",
       "      <td>0</td>\n",
       "      <td>0</td>\n",
       "    </tr>\n",
       "    <tr>\n",
       "      <th>459</th>\n",
       "      <td>PASSING 460</td>\n",
       "      <td>1:34:18,080</td>\n",
       "      <td>1:34:13,080</td>\n",
       "      <td>1:34:23,080</td>\n",
       "      <td>NaN</td>\n",
       "      <td>33-Marko Martinović</td>\n",
       "      <td>0</td>\n",
       "      <td>0</td>\n",
       "      <td>0</td>\n",
       "      <td>0</td>\n",
       "      <td>...</td>\n",
       "      <td>0</td>\n",
       "      <td>1</td>\n",
       "      <td>0</td>\n",
       "      <td>0</td>\n",
       "      <td>0</td>\n",
       "      <td>0</td>\n",
       "      <td>0</td>\n",
       "      <td>0</td>\n",
       "      <td>0</td>\n",
       "      <td>0</td>\n",
       "    </tr>\n",
       "  </tbody>\n",
       "</table>\n",
       "<p>460 rows × 24 columns</p>\n",
       "</div>"
      ],
      "text/plain": [
       "            Name         Time        Start         Stop  Team  \\\n",
       "0    PASSING 001     0:21,720     0:16,720     0:26,720   NaN   \n",
       "1    PASSING 002     0:33,520     0:28,520     0:38,520   NaN   \n",
       "2    PASSING 003     0:40,200     0:35,200     0:45,200   NaN   \n",
       "3    PASSING 004     0:43,800     0:38,800     0:48,800   NaN   \n",
       "4    PASSING 005     0:47,040     0:42,040     0:52,040   NaN   \n",
       "..           ...          ...          ...          ...   ...   \n",
       "455  PASSING 456  1:34:00,960  1:33:55,960  1:34:05,960   NaN   \n",
       "456  PASSING 457  1:34:08,080  1:34:03,080  1:34:13,080   NaN   \n",
       "457  PASSING 458  1:34:09,680  1:34:04,680  1:34:14,680   NaN   \n",
       "458  PASSING 459  1:34:12,640  1:34:07,640  1:34:17,640   NaN   \n",
       "459  PASSING 460  1:34:18,080  1:34:13,080  1:34:23,080   NaN   \n",
       "\n",
       "                  Player  FORWARD  SIDEPASS  BACKPASS  0 PRESS PASS  ...  \\\n",
       "0     14-Ivan Giljanović        0         0         0             0  ...   \n",
       "1        1-Karlo  Sentić        0         1         0             0  ...   \n",
       "2         6-Vicko Ševelj        0         1         0             0  ...   \n",
       "3    77-Lumbardh Dellova        0         1         0             0  ...   \n",
       "4     14-Ivan Giljanović        0         1         0             0  ...   \n",
       "..                   ...      ...       ...       ...           ...  ...   \n",
       "455      18-Josip Ciprić        0         1         0             0  ...   \n",
       "456   14-Ivan Giljanović        0         0         0             0  ...   \n",
       "457   14-Ivan Giljanović        0         0         1             0  ...   \n",
       "458       6-Vicko Ševelj        0         0         0             0  ...   \n",
       "459  33-Marko Martinović        0         0         0             0  ...   \n",
       "\n",
       "     CAN COUNTERPRESS  CAN'T COUNTERPRESS  3  4+  CROSS -  LAY-OFF  CROSS+  \\\n",
       "0                   1                   0  0   0        0        0       0   \n",
       "1                   0                   0  0   0        0        0       0   \n",
       "2                   0                   0  0   0        0        0       0   \n",
       "3                   0                   0  0   0        0        0       0   \n",
       "4                   0                   0  0   0        0        0       0   \n",
       "..                ...                 ... ..  ..      ...      ...     ...   \n",
       "455                 0                   0  0   0        0        0       0   \n",
       "456                 0                   0  0   0        0        0       0   \n",
       "457                 0                   0  0   0        0        0       0   \n",
       "458                 0                   0  1   0        0        0       0   \n",
       "459                 0                   1  0   0        0        0       0   \n",
       "\n",
       "     DIAG+  SIDE DEEP  OUT OF PLAY  \n",
       "0        0          0            0  \n",
       "1        0          0            0  \n",
       "2        0          0            0  \n",
       "3        0          0            0  \n",
       "4        0          0            0  \n",
       "..     ...        ...          ...  \n",
       "455      0          0            0  \n",
       "456      0          0            0  \n",
       "457      0          0            0  \n",
       "458      0          0            0  \n",
       "459      0          0            0  \n",
       "\n",
       "[460 rows x 24 columns]"
      ]
     },
     "execution_count": 7,
     "metadata": {},
     "output_type": "execute_result"
    }
   ],
   "source": [
    "df_passing"
   ]
  },
  {
   "cell_type": "code",
   "execution_count": 12,
   "metadata": {},
   "outputs": [],
   "source": [
    "passes_by_player = df_passing.groupby(\"Player\").sum()"
   ]
  },
  {
   "cell_type": "code",
   "execution_count": 13,
   "metadata": {},
   "outputs": [],
   "source": [
    "pass_base_columns = [\n",
    "    \"FORWARD\", \n",
    "    \"SIDEPASS\", \n",
    "    \"BACKPASS\", \n",
    "    \"0 PRESS PASS\" ,\n",
    "    \"CLEARENCE\", \n",
    "    \"1\",\n",
    "    \"2\",\n",
    "    \"3\",\n",
    "    \"4+\",\n",
    "    \"LAY-OFF\",\n",
    "    \"CROSS+\",\n",
    "    \"DIAG+\",\n",
    "    \"SIDE DEEP\"\n",
    "] \n",
    "\n",
    "pass_additional_columns = [\"5 (-)\",\"6 (-)\",\"7 (-)\",\"CROSS (-)\"]"
   ]
  },
  {
   "cell_type": "code",
   "execution_count": 14,
   "metadata": {},
   "outputs": [],
   "source": [
    "for col in pass_additional_columns:\n",
    "    passes_by_player[col] = 0"
   ]
  },
  {
   "cell_type": "code",
   "execution_count": 15,
   "metadata": {},
   "outputs": [],
   "source": [
    "passes_by_player = add_passing_totals(passes_by_player, sum_axis=1)"
   ]
  },
  {
   "cell_type": "code",
   "execution_count": 16,
   "metadata": {},
   "outputs": [],
   "source": [
    "passes_by_player.to_csv(f\"{output_path}/player_passing.csv\", sep=\";\")"
   ]
  },
  {
   "cell_type": "markdown",
   "metadata": {},
   "source": [
    "#### dribbling"
   ]
  },
  {
   "cell_type": "code",
   "execution_count": 17,
   "metadata": {},
   "outputs": [],
   "source": [
    "def add_dribbling_totals(stats_dribbling, sum_axis: int):\n",
    "    stats_dribbling[\"TOTAL\"] = stats_dribbling.sum(axis=sum_axis)\n",
    "    stats_dribbling[\"%\"] = np.round(\n",
    "        stats_dribbling[dribbling_positive_columns].sum(axis=sum_axis) / \n",
    "        stats_dribbling[\"TOTAL\"] * 100,\n",
    "        2\n",
    "    )\n",
    "    \n",
    "    return stats_dribbling"
   ]
  },
  {
   "cell_type": "code",
   "execution_count": 18,
   "metadata": {},
   "outputs": [],
   "source": [
    "df_dribbling = pd.read_csv(f\"{path}/dribling.csv\", sep=\";\", header=1)"
   ]
  },
  {
   "cell_type": "code",
   "execution_count": 19,
   "metadata": {},
   "outputs": [],
   "source": [
    "dribbling_relevant_columns = [\"1\", \"2A\", \"2B\", \"3\"]\n",
    "dribbling_positive_columns = [\"1\", \"2A\"]"
   ]
  },
  {
   "cell_type": "code",
   "execution_count": 20,
   "metadata": {},
   "outputs": [],
   "source": [
    "dribblings_by_player = (\n",
    "    df_dribbling.groupby(\"Player\").sum()[dribbling_relevant_columns]\n",
    ")"
   ]
  },
  {
   "cell_type": "code",
   "execution_count": 21,
   "metadata": {},
   "outputs": [],
   "source": [
    "dribblings_by_player = add_dribbling_totals(dribblings_by_player, sum_axis=1)"
   ]
  },
  {
   "cell_type": "code",
   "execution_count": 22,
   "metadata": {},
   "outputs": [],
   "source": [
    "dribblings_by_player.to_csv(f\"{output_path}/player_dribbling.csv\", sep=\";\")"
   ]
  },
  {
   "cell_type": "markdown",
   "metadata": {},
   "source": [
    "#### Interceptions"
   ]
  },
  {
   "cell_type": "code",
   "execution_count": 23,
   "metadata": {},
   "outputs": [],
   "source": [
    "def add_interception_totals(stats_interception, sum_axis: int):\n",
    "    stats_interception[\"TOTAL\"] = stats_interception.sum(axis=sum_axis)\n",
    "\n",
    "    stats_interception[\"%\"] = np.round(\n",
    "        stats_interception[interception_positive_columns].sum(axis=sum_axis) / \n",
    "        stats_interception[\"TOTAL\"] * 100,\n",
    "        2\n",
    "    )\n",
    "    \n",
    "    return stats_interception"
   ]
  },
  {
   "cell_type": "code",
   "execution_count": 39,
   "metadata": {},
   "outputs": [],
   "source": [
    "df_interception = pd.read_csv(f\"{path}/interception.csv\", sep=\";\", header=1)\n",
    "df_interception = df_interception.rename(str.strip, axis=1)"
   ]
  },
  {
   "cell_type": "code",
   "execution_count": 40,
   "metadata": {},
   "outputs": [],
   "source": [
    "#interception_relevant_columns = [\n",
    "#    '1 +', '2 +', '3 +', '4 /', '5 /', '6 -', '7 -', '8 -', '9'\n",
    "#]\n",
    "interception_relevant_columns = [\n",
    "    '1 +', '2 +', '3 +', '4', '5', '6/', '7/', '8-', '9-', \"10-\"\n",
    "]\n",
    "interception_positive_columns = [\n",
    "    '1 +', '2 +', '3 +', '4', '5', '9-'\n",
    "]"
   ]
  },
  {
   "cell_type": "code",
   "execution_count": 41,
   "metadata": {},
   "outputs": [],
   "source": [
    "interceptions_per_player = (\n",
    "    df_interception.groupby(\"Player\").sum()[interception_relevant_columns]\n",
    ")"
   ]
  },
  {
   "cell_type": "code",
   "execution_count": 42,
   "metadata": {},
   "outputs": [],
   "source": [
    "interceptions_per_player = add_interception_totals(\n",
    "    interceptions_per_player, sum_axis=1\n",
    ")"
   ]
  },
  {
   "cell_type": "code",
   "execution_count": 43,
   "metadata": {},
   "outputs": [],
   "source": [
    "interceptions_per_player.to_csv(f\"{output_path}/player_interception.csv\", sep=\";\")"
   ]
  },
  {
   "cell_type": "markdown",
   "metadata": {},
   "source": [
    "## Team Stats"
   ]
  },
  {
   "cell_type": "markdown",
   "metadata": {},
   "source": [
    "#### Passing"
   ]
  },
  {
   "cell_type": "code",
   "execution_count": 48,
   "metadata": {},
   "outputs": [],
   "source": [
    "team_passing = df_passing.sum()[pass_base_columns]"
   ]
  },
  {
   "cell_type": "code",
   "execution_count": 49,
   "metadata": {},
   "outputs": [],
   "source": [
    "for col in pass_additional_columns:\n",
    "    team_passing[col] = 0"
   ]
  },
  {
   "cell_type": "code",
   "execution_count": 50,
   "metadata": {},
   "outputs": [],
   "source": [
    "team_passing = add_passing_totals(team_passing, sum_axis=0)"
   ]
  },
  {
   "cell_type": "code",
   "execution_count": 51,
   "metadata": {},
   "outputs": [],
   "source": [
    "team_passing.to_csv(f\"{output_path}/team_passing.csv\")"
   ]
  },
  {
   "cell_type": "markdown",
   "metadata": {},
   "source": [
    "#### Dribbling"
   ]
  },
  {
   "cell_type": "code",
   "execution_count": 52,
   "metadata": {},
   "outputs": [],
   "source": [
    "team_dribbling = df_dribbling.sum()[dribbling_relevant_columns]\n",
    "team_dribbling = add_dribbling_totals(team_dribbling, sum_axis=0)"
   ]
  },
  {
   "cell_type": "code",
   "execution_count": 54,
   "metadata": {},
   "outputs": [],
   "source": [
    "team_dribbling.to_csv(f\"{output_path}/team_dribbling.csv\")"
   ]
  },
  {
   "cell_type": "markdown",
   "metadata": {},
   "source": [
    "#### Interception"
   ]
  },
  {
   "cell_type": "code",
   "execution_count": 55,
   "metadata": {},
   "outputs": [],
   "source": [
    "team_interception = df_interception.sum()[interception_relevant_columns]\n",
    "team_interception = add_interception_totals(team_interception, sum_axis=0)"
   ]
  },
  {
   "cell_type": "code",
   "execution_count": 56,
   "metadata": {},
   "outputs": [],
   "source": [
    "team_interception.to_csv(f\"{output_path}/team_interception.csv\")"
   ]
  },
  {
   "cell_type": "markdown",
   "metadata": {},
   "source": [
    "#### Ball Possession"
   ]
  },
  {
   "cell_type": "code",
   "execution_count": 57,
   "metadata": {},
   "outputs": [],
   "source": [
    "df_possession = pd.read_csv(f\"{path}/possesion.csv\", sep=\";\", header=1)"
   ]
  },
  {
   "cell_type": "code",
   "execution_count": 58,
   "metadata": {},
   "outputs": [],
   "source": [
    "possession_relevant_columns = [\n",
    "    \"FROM GK\", \"FROM THROW\", \"FROM FREE KICK\", \"FROM BACKPASS\"\n",
    "]\n",
    "possession_output_columns = [\n",
    "    \"FROM GK\", \"THROW\", \"FK\", \"BACKPASS\"\n",
    "]"
   ]
  },
  {
   "cell_type": "code",
   "execution_count": 59,
   "metadata": {},
   "outputs": [],
   "source": [
    "possession_team = df_possession.sum()[possession_relevant_columns]"
   ]
  },
  {
   "cell_type": "code",
   "execution_count": 60,
   "metadata": {},
   "outputs": [],
   "source": [
    "possession_team.to_csv(f\"{output_path}/team_possession.csv\")"
   ]
  },
  {
   "cell_type": "code",
   "execution_count": 173,
   "metadata": {},
   "outputs": [],
   "source": [
    "possession_team.to_csv(\"possession_test.csv\", index=False)\n",
    "pd.DataFrame(\n",
    "    possession_team\n",
    ").transpose().to_csv(\"test.csv\", index=False)\n",
    "with open(\"possession_test.csv\", \"a\") as file:\n",
    "    file.write(str(possession_team.sum()))\n"
   ]
  },
  {
   "cell_type": "markdown",
   "metadata": {},
   "source": [
    "#### Pressing"
   ]
  },
  {
   "cell_type": "code",
   "execution_count": 61,
   "metadata": {},
   "outputs": [],
   "source": [
    "pressing_relevant_columns = [\n",
    "    \"FROM GK\", \"FROM THROW\", \"FROM FREE KICK\", \"FROM BACKPASS\"\n",
    "]\n",
    "pressing_output_columns = [\n",
    "    \"FROM GK\", \"THROW\", \"FK\", \"BACKPASS\"\n",
    "]"
   ]
  },
  {
   "cell_type": "code",
   "execution_count": 62,
   "metadata": {},
   "outputs": [],
   "source": [
    "df_pressing = pd.read_csv(f\"{path}/pressing.csv\", sep=\";\", header=1)"
   ]
  },
  {
   "cell_type": "code",
   "execution_count": 63,
   "metadata": {},
   "outputs": [],
   "source": [
    "pressing_team = df_pressing.sum()[pressing_relevant_columns]\n",
    "pressing_team.index = pressing_output_columns"
   ]
  },
  {
   "cell_type": "code",
   "execution_count": 64,
   "metadata": {},
   "outputs": [],
   "source": [
    "pressing_team.to_csv(f\"{output_path}/team_pressing.csv\")"
   ]
  },
  {
   "cell_type": "markdown",
   "metadata": {},
   "source": [
    "#### Counterpress"
   ]
  },
  {
   "cell_type": "code",
   "execution_count": 65,
   "metadata": {},
   "outputs": [],
   "source": [
    "df_counterpress = pd.read_csv(f\"{path}/counterpress.csv\", sep=\";\", header=1)"
   ]
  },
  {
   "cell_type": "code",
   "execution_count": 66,
   "metadata": {},
   "outputs": [],
   "source": [
    "counterpress_relevant_columns = [\"1\", \"2\"]\n",
    "counterpress_output_columns = [\"WIN\", \"LOSE\"]"
   ]
  },
  {
   "cell_type": "code",
   "execution_count": 67,
   "metadata": {},
   "outputs": [],
   "source": [
    "counterpress_team = df_counterpress.sum()[counterpress_relevant_columns]\n",
    "counterpress_team.index = counterpress_output_columns"
   ]
  },
  {
   "cell_type": "code",
   "execution_count": 68,
   "metadata": {},
   "outputs": [],
   "source": [
    "counterpress_team.to_csv(f\"{output_path}/team_counterpress.csv\")"
   ]
  },
  {
   "cell_type": "markdown",
   "metadata": {},
   "source": [
    "#### Negative Transition"
   ]
  },
  {
   "cell_type": "code",
   "execution_count": 70,
   "metadata": {},
   "outputs": [],
   "source": [
    "df_neg_transition = pd.read_csv(f\"{path}/negative_transition.csv\", sep=\";\", header=1)"
   ]
  },
  {
   "cell_type": "code",
   "execution_count": 71,
   "metadata": {},
   "outputs": [],
   "source": [
    "count_neg_transition = pd.Series(len(df_neg_transition), index=[\"NEGATIVE TRANSITION\"])"
   ]
  },
  {
   "cell_type": "code",
   "execution_count": 72,
   "metadata": {},
   "outputs": [],
   "source": [
    "count_neg_transition.to_csv(f\"{output_path}/team_neg_transition.csv\")"
   ]
  },
  {
   "cell_type": "markdown",
   "metadata": {},
   "source": [
    "#### Positive Transition"
   ]
  },
  {
   "cell_type": "code",
   "execution_count": 73,
   "metadata": {},
   "outputs": [],
   "source": [
    "df_pos_transition = pd.read_csv(f\"{path}/positive_transition.csv\", sep=\";\", header=1)"
   ]
  },
  {
   "cell_type": "code",
   "execution_count": 74,
   "metadata": {},
   "outputs": [],
   "source": [
    "count_pos_transition = pd.Series(len(df_pos_transition), index=[\"POSITIVE TRANSITION\"])\n",
    "count_pos_transition.to_csv(f\"{output_path}/team_pos_transition.csv\")"
   ]
  },
  {
   "cell_type": "markdown",
   "metadata": {},
   "source": [
    "#### Set Pieces"
   ]
  },
  {
   "cell_type": "code",
   "execution_count": 75,
   "metadata": {},
   "outputs": [],
   "source": [
    "set_piece_relevant_columns = ['CORNER', 'FREE KICK', 'HALF DISTANCE', 'THROW IN']"
   ]
  },
  {
   "cell_type": "code",
   "execution_count": 76,
   "metadata": {},
   "outputs": [],
   "source": [
    "df_set_pieces_att = pd.read_csv(f\"{path}/attacking_set_pieces.csv\", sep=\";\", header=1)"
   ]
  },
  {
   "cell_type": "code",
   "execution_count": 77,
   "metadata": {},
   "outputs": [],
   "source": [
    "team_set_pieces_att = df_set_pieces_att.sum()[set_piece_relevant_columns]\n",
    "team_set_pieces_att.to_csv(f\"{output_path}/team_set_pieces_attacking.csv\")"
   ]
  },
  {
   "cell_type": "markdown",
   "metadata": {},
   "source": [
    "#### Set Pieces Defending"
   ]
  },
  {
   "cell_type": "code",
   "execution_count": 78,
   "metadata": {},
   "outputs": [],
   "source": [
    "df_set_pieces_def = pd.read_csv(f\"{path}/deffending_set_pieces.csv\", sep=\";\", header=1)"
   ]
  },
  {
   "cell_type": "code",
   "execution_count": 79,
   "metadata": {},
   "outputs": [],
   "source": [
    "team_set_pieces_def = df_set_pieces_def.sum()[set_piece_relevant_columns]\n",
    "team_set_pieces_def.to_csv(f\"{output_path}/team_set_pieces_defending.csv\")"
   ]
  },
  {
   "cell_type": "markdown",
   "metadata": {},
   "source": [
    "#### Shot on Goal"
   ]
  },
  {
   "cell_type": "code",
   "execution_count": 80,
   "metadata": {},
   "outputs": [],
   "source": [
    "shot_relevant_columns = ['GOAL', 'GK SAVE', 'GOAL KICK', 'POST']"
   ]
  },
  {
   "cell_type": "code",
   "execution_count": 81,
   "metadata": {},
   "outputs": [],
   "source": [
    "df_shot_att = pd.read_csv(f\"{path}/attacking_shot_on_goal.csv\", sep=\";\", header=1)\n",
    "team_shot_att = df_shot_att.sum()[shot_relevant_columns]\n",
    "team_shot_att.to_csv(f\"{output_path}/team_shot_on_goal_attacking.csv\")"
   ]
  },
  {
   "cell_type": "code",
   "execution_count": 82,
   "metadata": {},
   "outputs": [],
   "source": [
    "df_shot_def = pd.read_csv(f\"{path}/deffending_shot_on_goal.csv\", sep=\";\", header=1)\n",
    "team_shot_def = df_shot_def.sum()[shot_relevant_columns]\n",
    "team_shot_def.to_csv(f\"{output_path}/team_shot_on_goal_defending.csv\")"
   ]
  },
  {
   "cell_type": "markdown",
   "metadata": {},
   "source": [
    "#### Second Ball"
   ]
  },
  {
   "cell_type": "code",
   "execution_count": 83,
   "metadata": {},
   "outputs": [],
   "source": [
    "second_ball_relevant_columns = [\"WIN\", \"NOT WIN\"]"
   ]
  },
  {
   "cell_type": "code",
   "execution_count": 84,
   "metadata": {},
   "outputs": [],
   "source": [
    "df_second_ball = pd.read_csv(f\"{path}/second_ball.csv\", sep=\";\", header=1)"
   ]
  },
  {
   "cell_type": "code",
   "execution_count": 85,
   "metadata": {},
   "outputs": [],
   "source": [
    "team_second_ball = df_second_ball.sum()[second_ball_relevant_columns]"
   ]
  },
  {
   "cell_type": "code",
   "execution_count": 86,
   "metadata": {},
   "outputs": [],
   "source": [
    "team_second_ball.to_csv(f\"{output_path}/team_second_ball.csv\")"
   ]
  },
  {
   "cell_type": "code",
   "execution_count": null,
   "metadata": {},
   "outputs": [],
   "source": []
  }
 ],
 "metadata": {
  "kernelspec": {
   "display_name": "Python 3",
   "language": "python",
   "name": "python3"
  },
  "language_info": {
   "codemirror_mode": {
    "name": "ipython",
    "version": 3
   },
   "file_extension": ".py",
   "mimetype": "text/x-python",
   "name": "python",
   "nbconvert_exporter": "python",
   "pygments_lexer": "ipython3",
   "version": "3.7.6"
  }
 },
 "nbformat": 4,
 "nbformat_minor": 4
}
