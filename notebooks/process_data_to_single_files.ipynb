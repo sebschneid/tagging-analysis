{
 "cells": [
  {
   "cell_type": "code",
   "execution_count": 7,
   "metadata": {},
   "outputs": [],
   "source": [
    "import os\n",
    "import numpy as np"
   ]
  },
  {
   "cell_type": "code",
   "execution_count": 8,
   "metadata": {},
   "outputs": [],
   "source": [
    "def extract_single_csv(dataset):\n",
    "    with open(f\"../data/{dataset}.csv\") as file:\n",
    "        content = np.array(file.readlines())\n",
    "\n",
    "    category_starts = np.argwhere([\"CATEGORY\" in line for line in content]).flatten()\n",
    "\n",
    "    category_ends = category_starts[1:] - 1\n",
    "    category_ends = np.concatenate([category_ends, np.array([len(content)])])\n",
    "    \n",
    "    path_output = f\"../data/{dataset}\"\n",
    "    if not os.path.exists(path_output):\n",
    "        os.mkdir(path_output)\n",
    "\n",
    "    for start, end in zip(category_starts, category_ends):\n",
    "        category = content[start].split(\";\")[0].lower().replace(\"category: \", \"\").strip().replace(\" \", \"_\")\n",
    "        filename = f\"{category}.csv\"\n",
    "        with open(f\"{path_output}/{filename}\", \"w\") as file:\n",
    "            file.writelines(content[start:end])\n",
    "        print(f\"Wrote {category} to {filename}.\")"
   ]
  },
  {
   "cell_type": "code",
   "execution_count": 6,
   "metadata": {},
   "outputs": [
    {
     "name": "stdout",
     "output_type": "stream",
     "text": [
      "Wrote dribling to dribling.csv.\n",
      "Wrote passing to passing.csv.\n",
      "Wrote possesion to possesion.csv.\n",
      "Wrote interception to interception.csv.\n",
      "Wrote counterpress to counterpress.csv.\n",
      "Wrote second_ball to second_ball.csv.\n",
      "Wrote attacking_set_pieces to attacking_set_pieces.csv.\n",
      "Wrote deffending_shot_on_goal to deffending_shot_on_goal.csv.\n",
      "Wrote attacking_shot_on_goal to attacking_shot_on_goal.csv.\n",
      "Wrote deffending_set_pieces to deffending_set_pieces.csv.\n",
      "Wrote error to error.csv.\n",
      "Wrote pressing to pressing.csv.\n",
      "Wrote positive_transition to positive_transition.csv.\n",
      "Wrote negative_transition to negative_transition.csv.\n",
      "Wrote substitution to substitution.csv.\n",
      "Wrote positive_transition_peak to positive_transition_peak.csv.\n",
      "Wrote negative_transition_peak to negative_transition_peak.csv.\n",
      "Wrote possesion_peak to possesion_peak.csv.\n",
      "Wrote pressing_peak to pressing_peak.csv.\n"
     ]
    }
   ],
   "source": [
    "extract_single_csv(\"kustosija\")"
   ]
  },
  {
   "cell_type": "code",
   "execution_count": 9,
   "metadata": {},
   "outputs": [
    {
     "name": "stdout",
     "output_type": "stream",
     "text": [
      "Wrote dribling to dribling.csv.\n",
      "Wrote passing to passing.csv.\n",
      "Wrote possesion to possesion.csv.\n",
      "Wrote interception to interception.csv.\n",
      "Wrote counterpress to counterpress.csv.\n",
      "Wrote second_ball to second_ball.csv.\n",
      "Wrote attacking_set_pieces to attacking_set_pieces.csv.\n",
      "Wrote deffending_shot_on_goal to deffending_shot_on_goal.csv.\n",
      "Wrote attacking_shot_on_goal to attacking_shot_on_goal.csv.\n",
      "Wrote deffending_set_pieces to deffending_set_pieces.csv.\n",
      "Wrote error to error.csv.\n",
      "Wrote pressing to pressing.csv.\n",
      "Wrote positive_transition to positive_transition.csv.\n",
      "Wrote negative_transition to negative_transition.csv.\n",
      "Wrote substitution to substitution.csv.\n",
      "Wrote positive_transition_peak to positive_transition_peak.csv.\n",
      "Wrote possesion_peak to possesion_peak.csv.\n",
      "Wrote pressing_peak to pressing_peak.csv.\n",
      "Wrote negative_transition_peak to negative_transition_peak.csv.\n"
     ]
    }
   ],
   "source": [
    "extract_single_csv(\"sibenik\")"
   ]
  },
  {
   "cell_type": "code",
   "execution_count": 10,
   "metadata": {},
   "outputs": [
    {
     "name": "stdout",
     "output_type": "stream",
     "text": [
      "Wrote dribling to dribling.csv.\n",
      "Wrote passing to passing.csv.\n",
      "Wrote possesion to possesion.csv.\n",
      "Wrote interception to interception.csv.\n",
      "Wrote counterpress to counterpress.csv.\n",
      "Wrote attacking_set_pieces to attacking_set_pieces.csv.\n",
      "Wrote deffending_shot_on_goal to deffending_shot_on_goal.csv.\n",
      "Wrote attacking_shot_on_goal to attacking_shot_on_goal.csv.\n",
      "Wrote deffending_set_pieces to deffending_set_pieces.csv.\n",
      "Wrote error to error.csv.\n",
      "Wrote pressing to pressing.csv.\n",
      "Wrote substitution to substitution.csv.\n",
      "Wrote negative_transition to negative_transition.csv.\n",
      "Wrote positive_transition to positive_transition.csv.\n"
     ]
    }
   ],
   "source": [
    "extract_single_csv(\"solin\")"
   ]
  },
  {
   "cell_type": "code",
   "execution_count": 11,
   "metadata": {},
   "outputs": [
    {
     "name": "stdout",
     "output_type": "stream",
     "text": [
      "Wrote dribling to dribling.csv.\n",
      "Wrote passing to passing.csv.\n",
      "Wrote possesion to possesion.csv.\n",
      "Wrote interception to interception.csv.\n",
      "Wrote counterpress to counterpress.csv.\n",
      "Wrote second_ball to second_ball.csv.\n",
      "Wrote attacking_set_pieces to attacking_set_pieces.csv.\n",
      "Wrote deffending_shot_on_goal to deffending_shot_on_goal.csv.\n",
      "Wrote attacking_shot_on_goal to attacking_shot_on_goal.csv.\n",
      "Wrote deffending_set_pieces to deffending_set_pieces.csv.\n",
      "Wrote error to error.csv.\n",
      "Wrote pressing to pressing.csv.\n",
      "Wrote positive_transition to positive_transition.csv.\n",
      "Wrote negative_transition to negative_transition.csv.\n",
      "Wrote substitution to substitution.csv.\n",
      "Wrote positive_transition_peak to positive_transition_peak.csv.\n",
      "Wrote negative_transition_peak to negative_transition_peak.csv.\n",
      "Wrote possesion_peak to possesion_peak.csv.\n",
      "Wrote pressing_peak to pressing_peak.csv.\n"
     ]
    }
   ],
   "source": [
    "extract_single_csv(\"dugopolje\")"
   ]
  },
  {
   "cell_type": "code",
   "execution_count": 9,
   "metadata": {},
   "outputs": [
    {
     "name": "stdout",
     "output_type": "stream",
     "text": [
      "Wrote dribling to dribling.csv.\n",
      "Wrote passing to passing.csv.\n",
      "Wrote possesion to possesion.csv.\n",
      "Wrote interception to interception.csv.\n",
      "Wrote counterpress to counterpress.csv.\n",
      "Wrote second_ball to second_ball.csv.\n",
      "Wrote attacking_set_pieces to attacking_set_pieces.csv.\n",
      "Wrote deffending_shot_on_goal to deffending_shot_on_goal.csv.\n",
      "Wrote attacking_shot_on_goal to attacking_shot_on_goal.csv.\n",
      "Wrote deffending_set_pieces to deffending_set_pieces.csv.\n",
      "Wrote error to error.csv.\n",
      "Wrote pressing to pressing.csv.\n",
      "Wrote positive_transition to positive_transition.csv.\n",
      "Wrote negative_transition to negative_transition.csv.\n",
      "Wrote substitution to substitution.csv.\n",
      "Wrote positive_transition_peak to positive_transition_peak.csv.\n",
      "Wrote negative_transition_peak to negative_transition_peak.csv.\n",
      "Wrote possesion_peak to possesion_peak.csv.\n",
      "Wrote pressing_peak to pressing_peak.csv.\n"
     ]
    }
   ],
   "source": [
    "extract_single_csv(\"zmijavci\")"
   ]
  },
  {
   "cell_type": "code",
   "execution_count": null,
   "metadata": {},
   "outputs": [],
   "source": []
  }
 ],
 "metadata": {
  "kernelspec": {
   "display_name": "Python 3",
   "language": "python",
   "name": "python3"
  },
  "language_info": {
   "codemirror_mode": {
    "name": "ipython",
    "version": 3
   },
   "file_extension": ".py",
   "mimetype": "text/x-python",
   "name": "python",
   "nbconvert_exporter": "python",
   "pygments_lexer": "ipython3",
   "version": "3.7.6"
  }
 },
 "nbformat": 4,
 "nbformat_minor": 4
}
